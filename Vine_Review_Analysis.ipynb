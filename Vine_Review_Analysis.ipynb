{
  "nbformat": 4,
  "nbformat_minor": 0,
  "metadata": {
    "colab": {
      "name": "Vine_Review_Analysis.ipynb",
      "provenance": [],
      "collapsed_sections": []
    },
    "kernelspec": {
      "name": "python3",
      "display_name": "Python 3"
    },
    "language_info": {
      "name": "python"
    }
  },
  "cells": [
    {
      "cell_type": "code",
      "execution_count": 1,
      "metadata": {
        "colab": {
          "base_uri": "https://localhost:8080/"
        },
        "id": "RqSjdUspPRwH",
        "outputId": "f4372c7a-4595-4145-c51d-bda35016acba"
      },
      "outputs": [
        {
          "output_type": "stream",
          "name": "stdout",
          "text": [
            "\r0% [Working]\r            \rHit:1 https://developer.download.nvidia.com/compute/cuda/repos/ubuntu1804/x86_64  InRelease\n",
            "Get:2 https://cloud.r-project.org/bin/linux/ubuntu bionic-cran40/ InRelease [3,626 B]\n",
            "Get:3 http://security.ubuntu.com/ubuntu bionic-security InRelease [88.7 kB]\n",
            "Hit:4 http://ppa.launchpad.net/c2d4u.team/c2d4u4.0+/ubuntu bionic InRelease\n",
            "Ign:5 https://developer.download.nvidia.com/compute/machine-learning/repos/ubuntu1804/x86_64  InRelease\n",
            "Hit:6 https://developer.download.nvidia.com/compute/machine-learning/repos/ubuntu1804/x86_64  Release\n",
            "Hit:7 http://archive.ubuntu.com/ubuntu bionic InRelease\n",
            "Get:8 http://archive.ubuntu.com/ubuntu bionic-updates InRelease [88.7 kB]\n",
            "Hit:9 http://ppa.launchpad.net/cran/libgit2/ubuntu bionic InRelease\n",
            "Hit:10 http://ppa.launchpad.net/deadsnakes/ppa/ubuntu bionic InRelease\n",
            "Get:11 http://archive.ubuntu.com/ubuntu bionic-backports InRelease [74.6 kB]\n",
            "Hit:12 http://ppa.launchpad.net/graphics-drivers/ppa/ubuntu bionic InRelease\n",
            "Get:13 http://security.ubuntu.com/ubuntu bionic-security/main amd64 Packages [2,897 kB]\n",
            "Get:14 http://security.ubuntu.com/ubuntu bionic-security/universe amd64 Packages [1,526 kB]\n",
            "Get:15 http://security.ubuntu.com/ubuntu bionic-security/restricted amd64 Packages [1,057 kB]\n",
            "Get:17 http://archive.ubuntu.com/ubuntu bionic-updates/universe amd64 Packages [2,302 kB]\n",
            "Get:18 http://archive.ubuntu.com/ubuntu bionic-updates/main amd64 Packages [3,329 kB]\n",
            "Fetched 11.4 MB in 7s (1,696 kB/s)\n",
            "Reading package lists... Done\n"
          ]
        }
      ],
      "source": [
        "import os\n",
        "# Find the latest version of spark 3.0 from http://www.apache.org/dist/spark/ and enter as the spark version\n",
        "# For example:\n",
        "# spark_version = 'spark-3.0.3'\n",
        "spark_version = 'spark-3.0.3'\n",
        "os.environ['SPARK_VERSION']=spark_version\n",
        "\n",
        "# Install Spark and Java\n",
        "!apt-get update\n",
        "!apt-get install openjdk-11-jdk-headless -qq > /dev/null\n",
        "!wget -q http://www.apache.org/dist/spark/$SPARK_VERSION/$SPARK_VERSION-bin-hadoop2.7.tgz\n",
        "!tar xf $SPARK_VERSION-bin-hadoop2.7.tgz\n",
        "!pip install -q findspark\n",
        "\n",
        "# Set Environment Variables\n",
        "import os\n",
        "os.environ[\"JAVA_HOME\"] = \"/usr/lib/jvm/java-11-openjdk-amd64\"\n",
        "os.environ[\"SPARK_HOME\"] = f\"/content/{spark_version}-bin-hadoop2.7\"\n",
        "\n",
        "# Start a SparkSession\n",
        "import findspark\n",
        "findspark.init()"
      ]
    },
    {
      "cell_type": "code",
      "source": [
        "# Download the Postgres driver that will allow Spark to interact with Postgres.\n",
        "!wget https://jdbc.postgresql.org/download/postgresql-42.2.16.jar"
      ],
      "metadata": {
        "colab": {
          "base_uri": "https://localhost:8080/"
        },
        "id": "VVIJjUWqQHPh",
        "outputId": "df23c212-4d01-4bea-8a02-ca499cd3e8e3"
      },
      "execution_count": 2,
      "outputs": [
        {
          "output_type": "stream",
          "name": "stdout",
          "text": [
            "--2022-07-16 04:25:17--  https://jdbc.postgresql.org/download/postgresql-42.2.16.jar\n",
            "Resolving jdbc.postgresql.org (jdbc.postgresql.org)... 72.32.157.228, 2001:4800:3e1:1::228\n",
            "Connecting to jdbc.postgresql.org (jdbc.postgresql.org)|72.32.157.228|:443... connected.\n",
            "HTTP request sent, awaiting response... 200 OK\n",
            "Length: 1002883 (979K) [application/java-archive]\n",
            "Saving to: ‘postgresql-42.2.16.jar’\n",
            "\n",
            "postgresql-42.2.16. 100%[===================>] 979.38K  --.-KB/s    in 0.1s    \n",
            "\n",
            "2022-07-16 04:25:18 (6.43 MB/s) - ‘postgresql-42.2.16.jar’ saved [1002883/1002883]\n",
            "\n"
          ]
        }
      ]
    },
    {
      "cell_type": "code",
      "source": [
        "from pyspark.sql import SparkSession\n",
        "spark = SparkSession.builder.appName(\"M16-Amazon-Challenge\").config(\"spark.driver.extraClassPath\",\"/content/postgresql-42.2.16.jar\").getOrCreate()"
      ],
      "metadata": {
        "id": "uO-ncg7jQMA9"
      },
      "execution_count": 3,
      "outputs": []
    },
    {
      "cell_type": "code",
      "source": [
        "# Extract the dataset\n",
        "from pyspark import SparkFiles\n",
        "url = \"https://s3.amazonaws.com/amazon-reviews-pds/tsv/amazon_reviews_us_Wireless_v1_00.tsv.gz\"\n",
        "spark.sparkContext.addFile(url)\n",
        "df = spark.read.option(\"encoding\", \"UTF-8\").csv(SparkFiles.get(\"amazon_reviews_us_Wireless_v1_00.tsv.gz\"), sep=\"\\t\", header=True, inferSchema=True)\n",
        "df.show()"
      ],
      "metadata": {
        "colab": {
          "base_uri": "https://localhost:8080/"
        },
        "id": "AqbBQkCfQR1L",
        "outputId": "343473d7-d4ee-461e-faad-9de9ecc29ea5"
      },
      "execution_count": 4,
      "outputs": [
        {
          "output_type": "stream",
          "name": "stdout",
          "text": [
            "+-----------+-----------+--------------+----------+--------------+--------------------+----------------+-----------+-------------+-----------+----+-----------------+--------------------+--------------------+-----------+\n",
            "|marketplace|customer_id|     review_id|product_id|product_parent|       product_title|product_category|star_rating|helpful_votes|total_votes|vine|verified_purchase|     review_headline|         review_body|review_date|\n",
            "+-----------+-----------+--------------+----------+--------------+--------------------+----------------+-----------+-------------+-----------+----+-----------------+--------------------+--------------------+-----------+\n",
            "|         US|   16414143|R3W4P9UBGNGH1U|B00YL0EKWE|     852431543|LG G4 Case Hard T...|        Wireless|          2|            1|          3|   N|                Y|Looks good, funct...|2 issues  -  Once...| 2015-08-31|\n",
            "|         US|   50800750|R15V54KBMTQWAY|B00XK95RPQ|     516894650|Selfie Stick Fibl...|        Wireless|          4|            0|          0|   N|                N| A fun little gadget|I’m embarrassed t...| 2015-08-31|\n",
            "|         US|   15184378| RY8I449HNXSVF|B00SXRXUKO|     984297154|Tribe AB40 Water ...|        Wireless|          5|            0|          0|   N|                Y|          Five Stars|  Fits iPhone 6 well| 2015-08-31|\n",
            "|         US|   10203548|R18TLJYCKJFLSR|B009V5X1CE|     279912704|RAVPower® Element...|        Wireless|          5|            0|          0|   N|                Y|       Great charger|Great charger.  I...| 2015-08-31|\n",
            "|         US|     488280|R1NK26SWS53B8Q|B00D93OVF0|     662791300|Fosmon Micro USB ...|        Wireless|          5|            0|          0|   N|                Y|          Five Stars|Great for the pri...| 2015-08-31|\n",
            "|         US|   13334021|R11LOHEDYJALTN|B00XVGJMDQ|     421688488|iPhone 6 Case, Vo...|        Wireless|          5|            0|          0|   N|                Y|          Five Stars|Great Case, bette...| 2015-08-31|\n",
            "|         US|   27520697|R3ALQVQB2P9LA7|B00KQW1X1C|     554285554|Nokia Lumia 630 R...|        Wireless|          4|            0|          0|   N|                Y|          Four Stars|Easy to set up an...| 2015-08-31|\n",
            "|         US|   48086021|R3MWLXLNO21PDQ|B00IP1MQNK|     488006702|Lumsing 10400mah ...|        Wireless|          5|            0|          0|   N|                Y|          Five Stars|         Works great| 2015-08-31|\n",
            "|         US|   12738196|R2L15IS24CX0LI|B00HVORET8|     389677711|iPhone 5S Battery...|        Wireless|          5|            0|          0|   N|                Y|      So far so good|So far so good. I...| 2015-08-31|\n",
            "|         US|   15867807|R1DJ8976WPWVZU|B00HX3G6J6|     299654876|HTC One M8 Screen...|        Wireless|          3|            0|          0|   N|                Y|seems durable but...|seems durable but...| 2015-08-31|\n",
            "|         US|    1972249|R3MRWNNR8CBTB7|B00U4NATNQ|     577878727|S6 Case - Bear Mo...|        Wireless|          5|            0|          0|   N|                Y|Super thin, light...|Super thin, light...| 2015-08-31|\n",
            "|         US|   10956619|R1DS6DKTUXAQK3|B00SZEFDH8|     654620704|BLU Studio X, Unl...|        Wireless|          5|            0|          0|   N|                Y|          Five Stars|As good as the Sa...| 2015-08-31|\n",
            "|         US|   14805911| RWJM5E0TWUJD2|B00JRJUL9U|     391166958|EZOPower 5-Port U...|        Wireless|          5|            0|          0|   N|                Y|            EZOPower|I received this o...| 2015-08-31|\n",
            "|         US|   15611116|R1XTJKDYNCRGAC|B00KQ4T0HE|     481551630|iPhone 6S Case &i...|        Wireless|          1|            0|          0|   N|                Y|Very cheap case. ...|Very cheap case. ...| 2015-08-31|\n",
            "|         US|   39298603|R2UZL3DPWEU1XW|B00M0YWKPM|     685107474| iPhone 6s Plus Case|        Wireless|          5|            0|          0|   N|                Y|          Five Stars|       son loves it.| 2015-08-31|\n",
            "|         US|   17552454|R2EZXET9KBFFU3|B00KDZEE68|     148320945|zBoost ZB575-A TR...|        Wireless|          1|            0|          0|   N|                Y|            One Star|you have to turn ...| 2015-08-31|\n",
            "|         US|   12218556|R26VY1L1FD3LPU|B00BJN45GM|      47788188|OtterBox Defender...|        Wireless|          5|            0|          0|   N|                Y|          Five Stars|  Awesome, thank you| 2015-08-31|\n",
            "|         US|   21872923|R2SSA4NSFCV18T|B00SA86SXW|     748759272|Aduro PowerUP 30W...|        Wireless|          5|            0|          0|   N|                N|          Five Stars|         nice, smart| 2015-08-31|\n",
            "|         US|   16264332|R1G6333JHJNEUQ|B00Q3I68TU|     974085141|LilGadgets Connec...|        Wireless|          5|            0|          0|   N|                Y|Great headphones ...|We love these hea...| 2015-08-31|\n",
            "|         US|    6042304|R2DRG0UZXJQ0PE|B00TN4J1TA|     716174627|Anker Aluminum Mu...|        Wireless|          5|            0|          0|   N|                Y|          Five Stars|This is well wort...| 2015-08-31|\n",
            "+-----------+-----------+--------------+----------+--------------+--------------------+----------------+-----------+-------------+-----------+----+-----------------+--------------------+--------------------+-----------+\n",
            "only showing top 20 rows\n",
            "\n"
          ]
        }
      ]
    },
    {
      "cell_type": "code",
      "source": [
        "# Recreate the vine_table dataframe\n",
        "vine_df = df.select([\"review_id\",\"star_rating\",\"helpful_votes\",\"total_votes\",\"vine\",\"verified_purchase\"])\n",
        "vine_df.show()"
      ],
      "metadata": {
        "colab": {
          "base_uri": "https://localhost:8080/"
        },
        "id": "wJ1iq9z9QR-I",
        "outputId": "38f7ae9f-4a93-4c91-84ab-a7a2e7d7475b"
      },
      "execution_count": 18,
      "outputs": [
        {
          "output_type": "stream",
          "name": "stdout",
          "text": [
            "+--------------+-----------+-------------+-----------+----+-----------------+\n",
            "|     review_id|star_rating|helpful_votes|total_votes|vine|verified_purchase|\n",
            "+--------------+-----------+-------------+-----------+----+-----------------+\n",
            "|R3W4P9UBGNGH1U|          2|            1|          3|   N|                Y|\n",
            "|R15V54KBMTQWAY|          4|            0|          0|   N|                N|\n",
            "| RY8I449HNXSVF|          5|            0|          0|   N|                Y|\n",
            "|R18TLJYCKJFLSR|          5|            0|          0|   N|                Y|\n",
            "|R1NK26SWS53B8Q|          5|            0|          0|   N|                Y|\n",
            "|R11LOHEDYJALTN|          5|            0|          0|   N|                Y|\n",
            "|R3ALQVQB2P9LA7|          4|            0|          0|   N|                Y|\n",
            "|R3MWLXLNO21PDQ|          5|            0|          0|   N|                Y|\n",
            "|R2L15IS24CX0LI|          5|            0|          0|   N|                Y|\n",
            "|R1DJ8976WPWVZU|          3|            0|          0|   N|                Y|\n",
            "|R3MRWNNR8CBTB7|          5|            0|          0|   N|                Y|\n",
            "|R1DS6DKTUXAQK3|          5|            0|          0|   N|                Y|\n",
            "| RWJM5E0TWUJD2|          5|            0|          0|   N|                Y|\n",
            "|R1XTJKDYNCRGAC|          1|            0|          0|   N|                Y|\n",
            "|R2UZL3DPWEU1XW|          5|            0|          0|   N|                Y|\n",
            "|R2EZXET9KBFFU3|          1|            0|          0|   N|                Y|\n",
            "|R26VY1L1FD3LPU|          5|            0|          0|   N|                Y|\n",
            "|R2SSA4NSFCV18T|          5|            0|          0|   N|                N|\n",
            "|R1G6333JHJNEUQ|          5|            0|          0|   N|                Y|\n",
            "|R2DRG0UZXJQ0PE|          5|            0|          0|   N|                Y|\n",
            "+--------------+-----------+-------------+-----------+----+-----------------+\n",
            "only showing top 20 rows\n",
            "\n"
          ]
        }
      ]
    },
    {
      "cell_type": "code",
      "source": [
        "from pyspark.sql.types import IntegerType\n",
        "vine_df = vine_df.withColumn(\"star_rating\", vine_df[\"star_rating\"].cast(IntegerType()))\n",
        "vine_df.dtypes"
      ],
      "metadata": {
        "colab": {
          "base_uri": "https://localhost:8080/"
        },
        "id": "-YY22aDcib3f",
        "outputId": "c58b2a83-7750-45e8-e5c4-ae9539df0b7a"
      },
      "execution_count": 30,
      "outputs": [
        {
          "output_type": "execute_result",
          "data": {
            "text/plain": [
              "[('review_id', 'string'),\n",
              " ('star_rating', 'int'),\n",
              " ('helpful_votes', 'int'),\n",
              " ('total_votes', 'int'),\n",
              " ('vine', 'string'),\n",
              " ('verified_purchase', 'string')]"
            ]
          },
          "metadata": {},
          "execution_count": 30
        }
      ]
    },
    {
      "cell_type": "code",
      "source": [
        "# The data is filtered to create a DataFrame where there are 20 or more total votes \n",
        "greater_than_twenty_df = vine_df.filter(vine_df['total_votes'] >= 20)\n",
        "greater_than_twenty_df.show(10)"
      ],
      "metadata": {
        "colab": {
          "base_uri": "https://localhost:8080/"
        },
        "id": "WBFyC7yjUM4n",
        "outputId": "ec87430c-ec6d-4cc0-90ce-7a8f631806ee"
      },
      "execution_count": 31,
      "outputs": [
        {
          "output_type": "stream",
          "name": "stdout",
          "text": [
            "+--------------+-----------+-------------+-----------+----+-----------------+\n",
            "|     review_id|star_rating|helpful_votes|total_votes|vine|verified_purchase|\n",
            "+--------------+-----------+-------------+-----------+----+-----------------+\n",
            "|R2WOW0TURNXB26|          3|           54|         59|   N|                Y|\n",
            "|R13VL62Y2HBQ0B|          5|           15|         21|   N|                Y|\n",
            "|R22G55KAPZKJQV|          4|           20|         21|   N|                Y|\n",
            "|R1610PGTJS7G3N|          2|           28|         44|   N|                Y|\n",
            "| RLQL04BL0QXOJ|          4|           45|         47|   N|                Y|\n",
            "|R2AYJHH8WJNGAU|          4|           98|        104|   N|                Y|\n",
            "|R111DJA10Y6CMU|          5|           26|         39|   N|                Y|\n",
            "|R2EE2TR4MRDV0U|          5|           53|         59|   N|                Y|\n",
            "| RD4A80I5JDHED|          5|           69|         77|   N|                N|\n",
            "|R1GU6IYZQWQE8X|          2|           24|         25|   N|                Y|\n",
            "+--------------+-----------+-------------+-----------+----+-----------------+\n",
            "only showing top 10 rows\n",
            "\n"
          ]
        }
      ]
    },
    {
      "cell_type": "code",
      "source": [
        "# The data is filtered to create a DataFrame where the percentage of helpful_votes is equal to or greater than 50% \n",
        "percentage_helpful_votes_df = greater_than_twenty_df.filter(greater_than_twenty_df[\"helpful_votes\"]/greater_than_twenty_df[\"total_votes\"]>=0.5)\n",
        "percentage_helpful_votes_df.show()"
      ],
      "metadata": {
        "colab": {
          "base_uri": "https://localhost:8080/"
        },
        "id": "YylE7vCiUNGt",
        "outputId": "faad6466-9b3b-4c6a-d46c-006554987080"
      },
      "execution_count": 32,
      "outputs": [
        {
          "output_type": "stream",
          "name": "stdout",
          "text": [
            "+--------------+-----------+-------------+-----------+----+-----------------+\n",
            "|     review_id|star_rating|helpful_votes|total_votes|vine|verified_purchase|\n",
            "+--------------+-----------+-------------+-----------+----+-----------------+\n",
            "|R2WOW0TURNXB26|          3|           54|         59|   N|                Y|\n",
            "|R13VL62Y2HBQ0B|          5|           15|         21|   N|                Y|\n",
            "|R22G55KAPZKJQV|          4|           20|         21|   N|                Y|\n",
            "|R1610PGTJS7G3N|          2|           28|         44|   N|                Y|\n",
            "| RLQL04BL0QXOJ|          4|           45|         47|   N|                Y|\n",
            "|R2AYJHH8WJNGAU|          4|           98|        104|   N|                Y|\n",
            "|R111DJA10Y6CMU|          5|           26|         39|   N|                Y|\n",
            "|R2EE2TR4MRDV0U|          5|           53|         59|   N|                Y|\n",
            "| RD4A80I5JDHED|          5|           69|         77|   N|                N|\n",
            "|R1GU6IYZQWQE8X|          2|           24|         25|   N|                Y|\n",
            "| RZOPM62JMW97V|          2|          103|        108|   N|                Y|\n",
            "|R1D3NR5GREEXXJ|          5|           57|         58|   N|                Y|\n",
            "|R24BMEHX5EWGEY|          2|           26|         30|   N|                Y|\n",
            "|R2WYKBQS8OR08O|          5|          168|        176|   N|                Y|\n",
            "|R3DL0Y1KWYLD5X|          5|           36|         37|   N|                Y|\n",
            "|R3EGDTFDMCOOG4|          5|           74|         90|   N|                N|\n",
            "|R1MC93W6WG9R3O|          1|           22|         22|   N|                Y|\n",
            "|R35B0B69DYR54L|          1|           18|         22|   N|                Y|\n",
            "|R1593EM56412NH|          4|           33|         37|   N|                Y|\n",
            "|R1KEP1DUJK2LD5|          5|           34|         42|   N|                Y|\n",
            "+--------------+-----------+-------------+-----------+----+-----------------+\n",
            "only showing top 20 rows\n",
            "\n"
          ]
        }
      ]
    },
    {
      "cell_type": "code",
      "source": [
        "# The data is filtered to create a DataFrame or table where there is a Vine review \n",
        "vine_review_df = percentage_helpful_votes_df.filter(percentage_helpful_votes_df['vine']== 'Y')\n",
        "vine_review_df.show(10)"
      ],
      "metadata": {
        "colab": {
          "base_uri": "https://localhost:8080/"
        },
        "id": "ob8EPMs4WNyG",
        "outputId": "989b9f76-4cd7-4cab-ebdd-53b7ec25fbb2"
      },
      "execution_count": 33,
      "outputs": [
        {
          "output_type": "stream",
          "name": "stdout",
          "text": [
            "+--------------+-----------+-------------+-----------+----+-----------------+\n",
            "|     review_id|star_rating|helpful_votes|total_votes|vine|verified_purchase|\n",
            "+--------------+-----------+-------------+-----------+----+-----------------+\n",
            "|R1MAOLI5FJHAFM|          4|          249|        261|   Y|                N|\n",
            "| R9PYAUDIBJVEC|          4|           12|         22|   Y|                N|\n",
            "| R6V9SHMMG5M8F|          5|          101|        110|   Y|                N|\n",
            "|R37PVLT6ELL5J4|          4|          181|        209|   Y|                N|\n",
            "| R2FSFGWZF24V9|          4|           50|         51|   Y|                N|\n",
            "|R3SRW1E8J56IGV|          5|          262|        281|   Y|                N|\n",
            "| R86Z11D4CWOFM|          4|           32|         36|   Y|                N|\n",
            "| RNP01HW9YISJO|          4|           20|         23|   Y|                N|\n",
            "|R3KLACA6LCDZ0S|          3|           21|         22|   Y|                N|\n",
            "| RZEQYOT2RE0N7|          4|           75|         80|   Y|                N|\n",
            "+--------------+-----------+-------------+-----------+----+-----------------+\n",
            "only showing top 10 rows\n",
            "\n"
          ]
        }
      ]
    },
    {
      "cell_type": "code",
      "source": [
        "# The data is filtered to create a DataFrame or table where there isn’t a Vine review\n",
        "non_vine_review_df = percentage_helpful_votes_df.filter(percentage_helpful_votes_df['vine']== 'N')\n",
        "non_vine_review_df.show(10)"
      ],
      "metadata": {
        "colab": {
          "base_uri": "https://localhost:8080/"
        },
        "id": "ft6gEfC0WN1_",
        "outputId": "8310c09f-a6a2-4134-9080-66b49c2bcf36"
      },
      "execution_count": 34,
      "outputs": [
        {
          "output_type": "stream",
          "name": "stdout",
          "text": [
            "+--------------+-----------+-------------+-----------+----+-----------------+\n",
            "|     review_id|star_rating|helpful_votes|total_votes|vine|verified_purchase|\n",
            "+--------------+-----------+-------------+-----------+----+-----------------+\n",
            "|R2WOW0TURNXB26|          3|           54|         59|   N|                Y|\n",
            "|R13VL62Y2HBQ0B|          5|           15|         21|   N|                Y|\n",
            "|R22G55KAPZKJQV|          4|           20|         21|   N|                Y|\n",
            "|R1610PGTJS7G3N|          2|           28|         44|   N|                Y|\n",
            "| RLQL04BL0QXOJ|          4|           45|         47|   N|                Y|\n",
            "|R2AYJHH8WJNGAU|          4|           98|        104|   N|                Y|\n",
            "|R111DJA10Y6CMU|          5|           26|         39|   N|                Y|\n",
            "|R2EE2TR4MRDV0U|          5|           53|         59|   N|                Y|\n",
            "| RD4A80I5JDHED|          5|           69|         77|   N|                N|\n",
            "|R1GU6IYZQWQE8X|          2|           24|         25|   N|                Y|\n",
            "+--------------+-----------+-------------+-----------+----+-----------------+\n",
            "only showing top 10 rows\n",
            "\n"
          ]
        }
      ]
    },
    {
      "cell_type": "code",
      "source": [
        "# The total number of reviews, the number of 5-star reviews, and the percentage 5-star reviews are calculated for all Vine and non-Vine reviews \n",
        "# Determine the percentage of five-star reviews among Vine reviews(Paid)\n",
        "total_reviews_vine = vine_review_df.count()\n",
        "vine_five_star_reviews = vine_review_df.filter(vine_review_df['star_rating']== 5).count()\n",
        "percentage_five_star_vine_reviews = float(vine_five_star_reviews) / float(total_reviews_vine)*100\n",
        "print(\"Total Vine Reviews:\",total_reviews_vine)\n",
        "print(\"The number of 5-star Vine reviews:\",vine_five_star_reviews)\n",
        "print(\"The Percentage of 5-star Vine Reviews\",percentage_five_star_vine_reviews)"
      ],
      "metadata": {
        "colab": {
          "base_uri": "https://localhost:8080/"
        },
        "id": "fl7xr0D2WN78",
        "outputId": "075de2eb-5592-4f9a-e1e0-5fd68f0fc7ea"
      },
      "execution_count": 23,
      "outputs": [
        {
          "output_type": "stream",
          "name": "stdout",
          "text": [
            "Total Vine Reviews: 613\n",
            "The number of 5-star Vine reviews: 222\n",
            "The Percentage of 5-star Vine Reviews 36.215334420880914\n"
          ]
        }
      ]
    },
    {
      "cell_type": "code",
      "source": [
        "# Determine the percentage of five-star reviews among non-Vine reviews.(Unpaid)\n",
        "total_reviews_non_vine = non_vine_review_df.count()\n",
        "non_vine_five_star_reviews = non_vine_review_df.filter(non_vine_review_df['star_rating']== 5).count()\n",
        "percentage_five_star_non_vine_reviews = float(non_vine_five_star_reviews) / float(total_reviews_non_vine)*100\n",
        "print(\"Total Non-Vine Reviews:\",total_reviews_non_vine)\n",
        "print(\"The number of 5-star Non-Vine reviews:\",non_vine_five_star_reviews)\n",
        "print(\"The Percentage of 5-star Non-Vine Reviews\",percentage_five_star_non_vine_reviews)"
      ],
      "metadata": {
        "colab": {
          "base_uri": "https://localhost:8080/"
        },
        "id": "HVPd-N8vWOAN",
        "outputId": "3de28389-b2d1-474e-df3e-1d48c1c9a374"
      },
      "execution_count": 24,
      "outputs": [
        {
          "output_type": "stream",
          "name": "stdout",
          "text": [
            "Total Non-Vine Reviews: 64968\n",
            "The number of 5-star Non-Vine reviews: 30543\n",
            "The Percentage of 5-star Non-Vine Reviews 47.01237532323606\n"
          ]
        }
      ]
    },
    {
      "cell_type": "code",
      "source": [
        "# Total amount of reviews\n",
        "print(\"Total Reviews:\",total_reviews_vine + total_reviews_non_vine)"
      ],
      "metadata": {
        "colab": {
          "base_uri": "https://localhost:8080/"
        },
        "id": "WdutT6Xda_9B",
        "outputId": "4898abf0-d902-47fd-cd1f-8e58814a0f46"
      },
      "execution_count": 26,
      "outputs": [
        {
          "output_type": "stream",
          "name": "stdout",
          "text": [
            "Total Reviews: 65581\n"
          ]
        }
      ]
    },
    {
      "cell_type": "code",
      "source": [
        "from pyspark.sql.functions import mean\n",
        "vine_review_df.select(mean('star_rating')).collect()"
      ],
      "metadata": {
        "colab": {
          "base_uri": "https://localhost:8080/"
        },
        "id": "KJfKKGA2h14u",
        "outputId": "34f7683b-7994-4378-ecf5-d8b7cc8fec02"
      },
      "execution_count": 41,
      "outputs": [
        {
          "output_type": "execute_result",
          "data": {
            "text/plain": [
              "[Row(avg(star_rating)=3.9086460032626427)]"
            ]
          },
          "metadata": {},
          "execution_count": 41
        }
      ]
    },
    {
      "cell_type": "code",
      "source": [
        "non_vine_review_df.select(mean('star_rating')).collect()"
      ],
      "metadata": {
        "colab": {
          "base_uri": "https://localhost:8080/"
        },
        "id": "brMhpjgBkUWW",
        "outputId": "d42abc89-1215-4bc9-a382-b1d6a655663c"
      },
      "execution_count": 42,
      "outputs": [
        {
          "output_type": "execute_result",
          "data": {
            "text/plain": [
              "[Row(avg(star_rating)=3.605020933382588)]"
            ]
          },
          "metadata": {},
          "execution_count": 42
        }
      ]
    }
  ]
}